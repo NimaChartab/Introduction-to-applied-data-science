{
 "cells": [
  {
   "cell_type": "markdown",
   "metadata": {},
   "source": [
    "# Naive Bayes spam filtering"
   ]
  },
  {
   "cell_type": "markdown",
   "metadata": {},
   "source": [
    "Consider that you are given a data set of text messages which are labeled with ham or spam. We will use a training sample with ~4000 text messages, but first let's consider a few examples to get familiar with the naive Bayes idea."
   ]
  },
  {
   "cell_type": "markdown",
   "metadata": {},
   "source": [
    "| Class| Message|Bag of words|\n",
    "| -|:-:|:-:|\n",
    "| Spam| Send us your password| send, password|\n",
    "| Ham| I will send you the letter| send, letter|\n",
    "| Ham| I wrote a letter | write, letter|"
   ]
  },
  {
   "cell_type": "markdown",
   "metadata": {},
   "source": [
    "We want to compute P(Spam|Bag of words). Last session, we learned from Bayes' rule:    "
   ]
  },
  {
   "cell_type": "markdown",
   "metadata": {},
   "source": [
    "\n",
    "<div align=\"center\">$P(\\text{Spam|Bag of words})= \\frac{P(\\text{Bag of words|Spam})P(\\text{Spam})}{P(\\text{Bag of words|Spam})P(\\text{Spam})+P(\\text{Bag of words|Ham})P(\\text{Ham})}$</div>\n",
    "\n"
   ]
  },
  {
   "cell_type": "markdown",
   "metadata": {},
   "source": [
    "P(word|spam) and P(word|ham) can be estimated from the training sample. To avoid zero probabilities, we consider the initial value of 1 for the number of occurence of a word. Note that the priors are P(ham)=$\\frac{2}{3}$ and P(spam)=$\\frac{1}{3}$."
   ]
  },
  {
   "cell_type": "markdown",
   "metadata": {},
   "source": [
    "| Spam| Ham|word|Spam(i=1) |Ham(i=1)|\n",
    "| -|:-:|:-:|:-:|:-:|\n",
    "|$\\frac{1}{2}$ |$\\frac{1}{4}$ |send|$\\frac{1+1}{2+4}$ |$\\frac{1+1}{4+4}$ |\n",
    "|$\\frac{1}{2}$ |$\\frac{0}{4}$ |password|$\\frac{1+1}{2+4}$ |$\\frac{0+1}{4+4}$ |\n",
    "|$\\frac{0}{2}$| $\\frac{2}{4}$|letter|$\\frac{0+1}{2+4}$| $\\frac{2+1}{4+4}$|\n",
    "|$\\frac{0}{2}$ |$\\frac{1}{4}$ |write|$\\frac{0+1}{2+4}$ |$\\frac{1+1}{4+4}$ |\n"
   ]
  },
  {
   "cell_type": "markdown",
   "metadata": {},
   "source": [
    "Now, consider a new text message \"*write your password in the password box*\". We don't have the word \"*box*\" in our training sample, so the safe choice would be to remove this from the bag of words and make decision based on on the other two words, \"*write*\" and \"*password*\". \"*password*\" occured twice. "
   ]
  },
  {
   "cell_type": "markdown",
   "metadata": {},
   "source": [
    "<div align=\"center\">$P(\\text{spam|write,password,password})= \\frac{P(\\text{write|spam})P(\\text{password|spam})P(\\text{password|spam})P(\\text{spam})}{P(\\text{write|Spam})P(\\text{password|Spam})P(\\text{password|spam})P(\\text{Spam})+P(\\text{write|ham})P(\\text{password|ham})P(\\text{password|ham})P(\\text{ham})}$</div>\n"
   ]
  },
  {
   "cell_type": "markdown",
   "metadata": {},
   "source": [
    "<div align=\"center\">$P(\\text{spam|write,password,password})= \\frac{\\frac{1}{6}\\times\\frac{2}{6}\\times\\frac{2}{6}\\times\\frac{1}{3}}{\\frac{1}{6}\\times\\frac{2}{6}\\times\\frac{2}{6}\\times\\frac{1}{3}+\\frac{2}{8}\\times\\frac{1}{8}\\times\\frac{1}{8}\\times\\frac{2}{3}}\\sim 70\\%$</div>\n"
   ]
  },
  {
   "cell_type": "markdown",
   "metadata": {},
   "source": [
    "and $P(\\text{ham|write,password,password})=1-P(\\text{spam|write,password,password})=30\\%$, so we classify this email as a spam message. This was just a demonsteration of the naive Bayes method. Let's use a large data set to build a model and evaluate its performance.  "
   ]
  },
  {
   "cell_type": "code",
   "execution_count": null,
   "metadata": {},
   "outputs": [],
   "source": []
  }
 ],
 "metadata": {
  "kernelspec": {
   "display_name": "PHYS247",
   "language": "python",
   "name": "phys247"
  },
  "language_info": {
   "codemirror_mode": {
    "name": "ipython",
    "version": 3
   },
   "file_extension": ".py",
   "mimetype": "text/x-python",
   "name": "python",
   "nbconvert_exporter": "python",
   "pygments_lexer": "ipython3",
   "version": "3.8.2"
  }
 },
 "nbformat": 4,
 "nbformat_minor": 4
}
