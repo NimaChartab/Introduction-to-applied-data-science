{
 "cells": [
  {
   "cell_type": "markdown",
   "metadata": {},
   "source": [
    "## Bayesian Statistics"
   ]
  },
  {
   "cell_type": "markdown",
   "metadata": {},
   "source": [
    "In the Bayesian framework, the probability is defined as the measure of belief in an event occurring. We naturally use our beliefs as a probability of an event. Our belief in a hypothesis after taking data is proportional to how well that hypothesis explains the data times our prior belief.  \n",
    "\n",
    "\\begin{equation*}\n",
    "P(hypothesis|data)\\propto P(data|hypothesis) P(hypothesis)\n",
    "\\end{equation*}\n",
    "\n",
    "P(hypothesis|data): Posterior probability  \n",
    "P(data|hypothesis): Likelihood function  \n",
    "P(hypothesis): Prior probability  \n",
    "\n",
    "Example: Daniel Kahneman has an interesting example in his book. Steve has been described by his neighbor as follows: “*Steve is very shy and withdrawn, helpful but with very little interest in people or in the world of reality. He has a need for order and structure, and a passion for detail.*” Is Steve more likely to be a librarian or a farmer?  \n",
    "\n",
    "At first glance, it seems that Steve is more likely to be a librarian. Are we missing something? Yes, we are missing prior belief (background information). In the United States, the ratio of male farmers to male librarians is about 20 to 1. How can we incorporate this background information in our belief? If we have no information from his neighbor, then the probability of being a librarian is $\\frac{1}{21}$. So, Prior probability=P(Steve is a librarian)$=\\frac{1}{21}$. Now, we are given information from the neighbor. The probability of his neighbor's description given that Steve is a librarian shows the likelihood function. Let's consider that we are 90% confident that the neighbor describes Steve in that way if he is a librarian. So, P(neighbor info|Steve is a librarian)$=0.9$.\n",
    "\n"
   ]
  },
  {
   "cell_type": "markdown",
   "metadata": {},
   "source": [
    "<div align=\"center\">P(Steve is a librarian|neighbor info)$\\propto$ P(neighbor info|Steve is a librarian) P(Steve is a librarian)</div>"
   ]
  },
  {
   "cell_type": "markdown",
   "metadata": {},
   "source": [
    "Posterior probability on the left-hand side of the equation should be normalized ($0\\leq P\\leq 1$), so:"
   ]
  },
  {
   "cell_type": "markdown",
   "metadata": {},
   "source": [
    "\n",
    "<div align=\"center\">$P(\\text{Steve is a librarian|neighbor info})= \\frac{P(\\text{neighbor info|Steve is a librarian})P(\\text{Steve is a librarian})}{P(\\text{neighbor info|Steve is a librarian})P(\\text{Steve is a librarian})+P(\\text{neighbor info|Steve is a farmer})P(\\text{Steve is a farmer})}$</div>\n",
    "\n"
   ]
  },
  {
   "cell_type": "markdown",
   "metadata": {},
   "source": [
    "Let's consider that P(neighbor info|Steve is a farmer)$=0.5$\n",
    "<div align=\"center\">$P(\\text{Steve is a librarian|neighbor info})= \\frac{0.9\\times\\frac{1}{21}}{0.9\\times\\frac{1}{21}+0.5\\times \\frac{20}{21}}=8.2\\%$</div>"
   ]
  },
  {
   "cell_type": "markdown",
   "metadata": {},
   "source": [
    "Now, let's look into another example:"
   ]
  },
  {
   "cell_type": "code",
   "execution_count": 1,
   "metadata": {},
   "outputs": [],
   "source": [
    "import numpy as np\n",
    "import matplotlib.pylab as plt"
   ]
  },
  {
   "cell_type": "markdown",
   "metadata": {},
   "source": [
    "Poisson distribution:\n",
    "<div align=\"center\"> $P(k;\\lambda)=\\frac{\\lambda^k e^{-\\lambda}}{k!}$</div>"
   ]
  },
  {
   "cell_type": "markdown",
   "metadata": {},
   "source": [
    "Create random numbers with Poisson distribution:"
   ]
  },
  {
   "cell_type": "code",
   "execution_count": 2,
   "metadata": {},
   "outputs": [],
   "source": [
    "t=np.random.poisson(10,100000)"
   ]
  },
  {
   "cell_type": "code",
   "execution_count": 3,
   "metadata": {},
   "outputs": [],
   "source": [
    "Poisson=lambda k,λ: (λ**k)*np.exp(-λ)/np.math.factorial(k)"
   ]
  },
  {
   "cell_type": "code",
   "execution_count": 4,
   "metadata": {},
   "outputs": [],
   "source": [
    "Poisson=np.vectorize(Poisson)"
   ]
  },
  {
   "cell_type": "code",
   "execution_count": 5,
   "metadata": {},
   "outputs": [
    {
     "data": {
      "image/png": "[encoded data removed]",
      "text/plain": [
       "<Figure size 576x360 with 1 Axes>"
      ]
     },
     "metadata": {
      "needs_background": "light"
     },
     "output_type": "display_data"
    }
   ],
   "source": [
    "plt.figure(figsize=(8,5))\n",
    "\n",
    "plt.hist(t, density=True)\n",
    "plt.plot(np.arange(25),Poisson(np.arange(25),10),c='r', marker='o')\n",
    "\n",
    "plt.ylabel('P',fontsize=15)\n",
    "plt.xlabel('k', fontsize=15)\n",
    "plt.show()\n"
   ]
  },
  {
   "cell_type": "markdown",
   "metadata": {},
   "source": [
    "What is the average of k? We know that the expected value of k with Poisson distribution is λ"
   ]
  },
  {
   "cell_type": "code",
   "execution_count": 6,
   "metadata": {},
   "outputs": [
    {
     "data": {
      "text/plain": [
       "10.01728"
      ]
     },
     "execution_count": 6,
     "metadata": {},
     "output_type": "execute_result"
    }
   ],
   "source": [
    "np.mean(t)"
   ]
  },
  {
   "cell_type": "markdown",
   "metadata": {},
   "source": [
    "Now, let's generate a fake set of data as a tweet counts (similar to what you have in the second HW)"
   ]
  },
  {
   "cell_type": "code",
   "execution_count": 7,
   "metadata": {},
   "outputs": [],
   "source": [
    "tweet=np.random.poisson(50,52)"
   ]
  },
  {
   "cell_type": "code",
   "execution_count": 8,
   "metadata": {},
   "outputs": [
    {
     "data": {
      "text/plain": [
       "Text(0.5, 1.0, 'Weekly tweet counts')"
      ]
     },
     "execution_count": 8,
     "metadata": {},
     "output_type": "execute_result"
    },
    {
     "data": {
      "image/png": "[encoded data removed]",
      "text/plain": [
       "<Figure size 1080x216 with 1 Axes>"
      ]
     },
     "metadata": {
      "needs_background": "light"
     },
     "output_type": "display_data"
    }
   ],
   "source": [
    "plt.figure(figsize=(15,3))\n",
    "plt.bar(np.arange(1,53),tweet, color='green',edgecolor='black')\n",
    "plt.xlim(0,53)\n",
    "plt.xlabel('Week',fontsize=15)\n",
    "plt.ylabel('tweet counts',fontsize=15)\n",
    "\n",
    "plt.title('Weekly tweet counts', fontsize=20)"
   ]
  },
  {
   "cell_type": "markdown",
   "metadata": {},
   "source": [
    "The data have been generated from the Poisson distribution with λ=50. Imagine that we don't know underlying distribution and we want to estimate λ"
   ]
  },
  {
   "cell_type": "markdown",
   "metadata": {},
   "source": [
    "Consider that the weekly tweet counts are drawn from Poisson distribution with unknown λ. Do we have any prior belief on λ?"
   ]
  },
  {
   "cell_type": "markdown",
   "metadata": {},
   "source": [
    "Exponential random distribution"
   ]
  },
  {
   "cell_type": "markdown",
   "metadata": {},
   "source": [
    "<div align=\"center\">$P(\\lambda;\\alpha)=\\alpha e^{-\\lambda\\alpha}$</div>"
   ]
  },
  {
   "cell_type": "code",
   "execution_count": 9,
   "metadata": {},
   "outputs": [],
   "source": [
    "Exponential=lambda λ,α: α*np.exp(-λ*α)\n",
    "Exponential=np.vectorize(Exponential)"
   ]
  },
  {
   "cell_type": "markdown",
   "metadata": {},
   "source": [
    "Assume that a normal person tweets 25 tweets per week ($\\alpha=1/25=0.04$)"
   ]
  },
  {
   "cell_type": "code",
   "execution_count": 16,
   "metadata": {},
   "outputs": [
    {
     "data": {
      "image/png": "[encoded data removed]",
      "text/plain": [
       "<Figure size 432x288 with 1 Axes>"
      ]
     },
     "metadata": {
      "needs_background": "light"
     },
     "output_type": "display_data"
    }
   ],
   "source": [
    "plt.plot(np.linspace(0,200,1000),Exponential(np.linspace(0,200,1000),0.04),c='r')\n",
    "plt.xlabel('$\\lambda$', fontsize=15)\n",
    "plt.ylabel('$P$', fontsize=15)\n",
    "plt.show()"
   ]
  },
  {
   "cell_type": "markdown",
   "metadata": {},
   "source": [
    "Let's make a grid for λ and find posterior of every single point"
   ]
  },
  {
   "cell_type": "code",
   "execution_count": 17,
   "metadata": {},
   "outputs": [],
   "source": [
    "λ_est=np.linspace(40,60,2000)"
   ]
  },
  {
   "cell_type": "code",
   "execution_count": 23,
   "metadata": {},
   "outputs": [],
   "source": [
    "def Posterior_tweet(λ_est,tweet_Data):\n",
    "    return np.prod(Poisson(tweet_Data,λ_est)*Exponential(λ_est,0.04))"
   ]
  },
  {
   "cell_type": "code",
   "execution_count": 24,
   "metadata": {},
   "outputs": [],
   "source": [
    "P_=np.array([])\n",
    "for j in λ_est:\n",
    "    P_=np.append(P_,Posterior_tweet(j,tweet))"
   ]
  },
  {
   "cell_type": "code",
   "execution_count": 25,
   "metadata": {},
   "outputs": [],
   "source": [
    "Posterior=P_/np.trapz(P_,λ_est)"
   ]
  },
  {
   "cell_type": "code",
   "execution_count": 26,
   "metadata": {},
   "outputs": [
    {
     "data": {
      "text/plain": [
       "48.37418709354677"
      ]
     },
     "execution_count": 26,
     "metadata": {},
     "output_type": "execute_result"
    }
   ],
   "source": [
    "λ_mode=λ_est[np.argmax(Posterior)]\n",
    "λ_mode"
   ]
  },
  {
   "cell_type": "code",
   "execution_count": 29,
   "metadata": {},
   "outputs": [
    {
     "data": {
      "image/png": "[encoded data removed]",
      "text/plain": [
       "<Figure size 576x360 with 1 Axes>"
      ]
     },
     "metadata": {
      "needs_background": "light"
     },
     "output_type": "display_data"
    }
   ],
   "source": [
    "plt.figure(figsize=(8,5))\n",
    "plt.plot(λ_est,Posterior)\n",
    "plt.vlines(λ_mode,-0.01,0.45,color='red')\n",
    "plt.xlabel('$\\lambda$',fontsize=15)\n",
    "plt.ylabel('$P(λ|data)$',fontsize=15)\n",
    "plt.ylim(-0.01,0.46)\n",
    "plt.xlim(44,54)\n",
    "plt.text(λ_mode,np.max(Posterior),'λ(mode)={:0.2f}'.format(λ_mode),fontsize=20)\n",
    "plt.show()"
   ]
  },
  {
   "cell_type": "markdown",
   "metadata": {},
   "source": [
    "How to define confidence inteval? Consider that the posterior is a symmetric distribution with no skew."
   ]
  },
  {
   "cell_type": "markdown",
   "metadata": {},
   "source": [
    "<div align=\"center\">Expected value of $x=\\bar{x}=\\int x P(x) dx$</div>"
   ]
  },
  {
   "cell_type": "code",
   "execution_count": 30,
   "metadata": {},
   "outputs": [
    {
     "data": {
      "text/plain": [
       "48.39127218934911"
      ]
     },
     "execution_count": 30,
     "metadata": {},
     "output_type": "execute_result"
    }
   ],
   "source": [
    "μ=np.trapz(λ_est*Posterior,λ_est)\n",
    "μ"
   ]
  },
  {
   "cell_type": "markdown",
   "metadata": {},
   "source": [
    "<div align=\"center\">Variance of $x=\\int (x-\\bar{x})^2 P(x) dx$</div>"
   ]
  },
  {
   "cell_type": "code",
   "execution_count": 31,
   "metadata": {},
   "outputs": [
    {
     "data": {
      "text/plain": [
       "0.9459434587595165"
      ]
     },
     "execution_count": 31,
     "metadata": {},
     "output_type": "execute_result"
    }
   ],
   "source": [
    "σ=np.sqrt(np.trapz(((λ_est-μ)**2)*Posterior,λ_est))\n",
    "σ"
   ]
  },
  {
   "cell_type": "code",
   "execution_count": 32,
   "metadata": {},
   "outputs": [
    {
     "data": {
      "image/png": "[encoded data removed]",
      "text/plain": [
       "<Figure size 576x360 with 1 Axes>"
      ]
     },
     "metadata": {
      "needs_background": "light"
     },
     "output_type": "display_data"
    }
   ],
   "source": [
    "plt.figure(figsize=(8,5))\n",
    "plt.plot(λ_est,Posterior)\n",
    "plt.vlines(λ_mode,-0.01,0.45,color='red')\n",
    "plt.xlabel('$\\lambda$',fontsize=15)\n",
    "plt.ylabel('$P(λ|data)$',fontsize=15)\n",
    "plt.ylim(-0.01,0.46)\n",
    "plt.xlim(44,54)\n",
    "plt.text(λ_mode,np.max(Posterior),'λ(mode)={:0.2f}'.format(λ_mode),fontsize=20)\n",
    "plt.fill_between(λ_est,Posterior,where=[(x>=(λ_mode-σ))&(x<=(λ_mode+σ)) for x in λ_est],facecolor='green',alpha=0.3)\n",
    "plt.show()"
   ]
  },
  {
   "cell_type": "markdown",
   "metadata": {},
   "source": [
    "Find the area of the green region"
   ]
  },
  {
   "cell_type": "code",
   "execution_count": 33,
   "metadata": {},
   "outputs": [],
   "source": [
    "mask=(λ_est>=(λ_mode-σ))&(λ_est<=(λ_mode+σ))"
   ]
  },
  {
   "cell_type": "code",
   "execution_count": 34,
   "metadata": {},
   "outputs": [
    {
     "data": {
      "text/plain": [
       "0.6799428268749993"
      ]
     },
     "execution_count": 34,
     "metadata": {},
     "output_type": "execute_result"
    }
   ],
   "source": [
    "np.trapz(Posterior[mask],λ_est[mask])"
   ]
  },
  {
   "cell_type": "markdown",
   "metadata": {},
   "source": [
    "So, we are 68% confident that λ is between 47.4 and 49.4."
   ]
  },
  {
   "cell_type": "code",
   "execution_count": null,
   "metadata": {},
   "outputs": [],
   "source": []
  }
 ],
 "metadata": {
  "kernelspec": {
   "display_name": "PHYS247",
   "language": "python",
   "name": "phys247"
  },
  "language_info": {
   "codemirror_mode": {
    "name": "ipython",
    "version": 3
   },
   "file_extension": ".py",
   "mimetype": "text/x-python",
   "name": "python",
   "nbconvert_exporter": "python",
   "pygments_lexer": "ipython3",
   "version": "3.8.2"
  }
 },
 "nbformat": 4,
 "nbformat_minor": 4
}
