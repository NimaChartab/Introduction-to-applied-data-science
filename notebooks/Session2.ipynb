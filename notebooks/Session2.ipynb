{
 "cells": [
  {
   "cell_type": "markdown",
   "metadata": {},
   "source": [
    "# Session 2\n"
   ]
  },
  {
   "cell_type": "markdown",
   "metadata": {},
   "source": [
    "### Introduction to applied data science\n",
    "TA: Nima Chartab"
   ]
  },
  {
   "cell_type": "markdown",
   "metadata": {},
   "source": [
    "### For the detailed info look at the full [documentation of numpy](https://docs.scipy.org/doc/numpy/reference)"
   ]
  },
  {
   "cell_type": "markdown",
   "metadata": {},
   "source": [
    "### First import the needed packages (numpy and matplotlib for this session)"
   ]
  },
  {
   "cell_type": "code",
   "execution_count": 2,
   "metadata": {},
   "outputs": [],
   "source": [
    "import numpy as np\n",
    "import matplotlib.pylab as plt"
   ]
  },
  {
   "cell_type": "markdown",
   "metadata": {},
   "source": [
    "### Scalar-array and array-array operations"
   ]
  },
  {
   "cell_type": "code",
   "execution_count": 3,
   "metadata": {},
   "outputs": [
    {
     "data": {
      "text/plain": [
       "array([[1, 2, 3],\n",
       "       [4, 5, 6]])"
      ]
     },
     "execution_count": 3,
     "metadata": {},
     "output_type": "execute_result"
    }
   ],
   "source": [
    "#let's make a 2*3 array\n",
    "A=np.array([[1,2,3],\n",
    "            [4,5,6]])\n",
    "A"
   ]
  },
  {
   "cell_type": "markdown",
   "metadata": {},
   "source": [
    "### note that arithmetic operations work element-wise "
   ]
  },
  {
   "cell_type": "code",
   "execution_count": 4,
   "metadata": {},
   "outputs": [
    {
     "data": {
      "text/plain": [
       "array([[ 2,  4,  6],\n",
       "       [ 8, 10, 12]])"
      ]
     },
     "execution_count": 4,
     "metadata": {},
     "output_type": "execute_result"
    }
   ],
   "source": [
    "2*A"
   ]
  },
  {
   "cell_type": "code",
   "execution_count": 5,
   "metadata": {},
   "outputs": [
    {
     "data": {
      "text/plain": [
       "array([[ 5,  6,  7],\n",
       "       [ 8,  9, 10]])"
      ]
     },
     "execution_count": 5,
     "metadata": {},
     "output_type": "execute_result"
    }
   ],
   "source": [
    "A+4"
   ]
  },
  {
   "cell_type": "code",
   "execution_count": 6,
   "metadata": {},
   "outputs": [
    {
     "data": {
      "text/plain": [
       "array([[ 7,  9, 10],\n",
       "       [ 4,  7,  2]])"
      ]
     },
     "execution_count": 6,
     "metadata": {},
     "output_type": "execute_result"
    }
   ],
   "source": [
    "B=np.array([[7,9,10],[4,7,2]])\n",
    "B"
   ]
  },
  {
   "cell_type": "code",
   "execution_count": 7,
   "metadata": {},
   "outputs": [
    {
     "data": {
      "text/plain": [
       "array([[ 6,  7,  7],\n",
       "       [ 0,  2, -4]])"
      ]
     },
     "execution_count": 7,
     "metadata": {},
     "output_type": "execute_result"
    }
   ],
   "source": [
    "B-A"
   ]
  },
  {
   "cell_type": "code",
   "execution_count": 9,
   "metadata": {},
   "outputs": [
    {
     "data": {
      "text/plain": [
       "array([[ 7, 18, 30],\n",
       "       [16, 35, 12]])"
      ]
     },
     "execution_count": 9,
     "metadata": {},
     "output_type": "execute_result"
    }
   ],
   "source": [
    "B*A # note that this does not return matrix multiplication"
   ]
  },
  {
   "cell_type": "code",
   "execution_count": 10,
   "metadata": {},
   "outputs": [
    {
     "data": {
      "text/plain": [
       "2"
      ]
     },
     "execution_count": 10,
     "metadata": {},
     "output_type": "execute_result"
    }
   ],
   "source": [
    "# len()\n",
    "#number of row\n",
    "len(A)"
   ]
  },
  {
   "cell_type": "code",
   "execution_count": 15,
   "metadata": {},
   "outputs": [
    {
     "data": {
      "text/plain": [
       "3"
      ]
     },
     "execution_count": 15,
     "metadata": {},
     "output_type": "execute_result"
    }
   ],
   "source": [
    "#number of column\n",
    "len(A[0])"
   ]
  },
  {
   "cell_type": "markdown",
   "metadata": {},
   "source": [
    "## Matrix multiplication"
   ]
  },
  {
   "cell_type": "markdown",
   "metadata": {},
   "source": [
    "![](fig/MatMult.png)"
   ]
  },
  {
   "cell_type": "markdown",
   "metadata": {},
   "source": [
    "### Let's write a function for matrix multiplication without using numpy"
   ]
  },
  {
   "cell_type": "code",
   "execution_count": 17,
   "metadata": {},
   "outputs": [],
   "source": [
    "#zip function \n",
    "A=[2,4]\n",
    "B=[[3,4],\n",
    "   [5,8]]"
   ]
  },
  {
   "cell_type": "code",
   "execution_count": 18,
   "metadata": {},
   "outputs": [
    {
     "data": {
      "text/plain": [
       "[(2, [3, 4]), (4, [5, 8])]"
      ]
     },
     "execution_count": 18,
     "metadata": {},
     "output_type": "execute_result"
    }
   ],
   "source": [
    "list(zip(A,B))"
   ]
  },
  {
   "cell_type": "code",
   "execution_count": 19,
   "metadata": {},
   "outputs": [
    {
     "data": {
      "text/plain": [
       "[(3, 5), (4, 8)]"
      ]
     },
     "execution_count": 19,
     "metadata": {},
     "output_type": "execute_result"
    }
   ],
   "source": [
    "list(zip(*B))"
   ]
  },
  {
   "cell_type": "code",
   "execution_count": 20,
   "metadata": {},
   "outputs": [],
   "source": [
    "#let's define A,B\n",
    "A=[[1,2,3],\n",
    "    [4,5,6]]\n",
    "B=[[3,4],\n",
    "   [5,6],\n",
    "   [4,7]]"
   ]
  },
  {
   "cell_type": "code",
   "execution_count": 25,
   "metadata": {},
   "outputs": [],
   "source": [
    "def MatrixMulti(A,B):\n",
    "    \"\"\"\n",
    "    A function which computes matrix multiplication of the first \n",
    "    and second inputs. Inputs should be list-like.\n",
    "    \"\"\"\n",
    "    \n",
    "    if len(A[0])==len(B):\n",
    "        R=[[sum(x*y for x,y in zip(A_row,B_col)) for B_col in zip(*B)] for A_row in A]\n",
    "        return R\n",
    "    else: \n",
    "        print('Matrix dimensions do not match')"
   ]
  },
  {
   "cell_type": "code",
   "execution_count": 26,
   "metadata": {},
   "outputs": [
    {
     "data": {
      "text/plain": [
       "[[25, 37], [61, 88]]"
      ]
     },
     "execution_count": 26,
     "metadata": {},
     "output_type": "execute_result"
    }
   ],
   "source": [
    "MatrixMulti(A,B)"
   ]
  },
  {
   "cell_type": "markdown",
   "metadata": {},
   "source": [
    "### let's do it with numpy"
   ]
  },
  {
   "cell_type": "code",
   "execution_count": 27,
   "metadata": {},
   "outputs": [
    {
     "data": {
      "text/plain": [
       "array([[25, 37],\n",
       "       [61, 88]])"
      ]
     },
     "execution_count": 27,
     "metadata": {},
     "output_type": "execute_result"
    }
   ],
   "source": [
    "#np.dot\n",
    "A=np.array(A)\n",
    "B=np.array(B)\n",
    "np.dot(A,B)"
   ]
  },
  {
   "cell_type": "code",
   "execution_count": 28,
   "metadata": {},
   "outputs": [
    {
     "ename": "ValueError",
     "evalue": "operands could not be broadcast together with shapes (2,3) (3,2) ",
     "output_type": "error",
     "traceback": [
      "\u001b[0;31m---------------------------------------------------------------------------\u001b[0m",
      "\u001b[0;31mValueError\u001b[0m                                Traceback (most recent call last)",
      "\u001b[0;32m<ipython-input-28-47896efed660>\u001b[0m in \u001b[0;36m<module>\u001b[0;34m\u001b[0m\n\u001b[0;32m----> 1\u001b[0;31m \u001b[0mA\u001b[0m\u001b[0;34m*\u001b[0m\u001b[0mB\u001b[0m\u001b[0;34m\u001b[0m\u001b[0;34m\u001b[0m\u001b[0m\n\u001b[0m",
      "\u001b[0;31mValueError\u001b[0m: operands could not be broadcast together with shapes (2,3) (3,2) "
     ]
    }
   ],
   "source": [
    "A*B"
   ]
  },
  {
   "cell_type": "code",
   "execution_count": 29,
   "metadata": {},
   "outputs": [
    {
     "data": {
      "text/plain": [
       "matrix([[1, 2, 3],\n",
       "        [4, 5, 6]])"
      ]
     },
     "execution_count": 29,
     "metadata": {},
     "output_type": "execute_result"
    }
   ],
   "source": [
    "#you can convert array to matrix and use arthmetic operations\n",
    "A=np.matrix(A)\n",
    "A"
   ]
  },
  {
   "cell_type": "code",
   "execution_count": 30,
   "metadata": {},
   "outputs": [
    {
     "data": {
      "text/plain": [
       "matrix([[3, 4],\n",
       "        [5, 6],\n",
       "        [4, 7]])"
      ]
     },
     "execution_count": 30,
     "metadata": {},
     "output_type": "execute_result"
    }
   ],
   "source": [
    "B=np.matrix(B)\n",
    "B"
   ]
  },
  {
   "cell_type": "code",
   "execution_count": 31,
   "metadata": {},
   "outputs": [
    {
     "data": {
      "text/plain": [
       "matrix([[25, 37],\n",
       "        [61, 88]])"
      ]
     },
     "execution_count": 31,
     "metadata": {},
     "output_type": "execute_result"
    }
   ],
   "source": [
    "A*B"
   ]
  },
  {
   "cell_type": "code",
   "execution_count": 44,
   "metadata": {},
   "outputs": [
    {
     "data": {
      "text/plain": [
       "array([1., 1., 1., 1., 1., 1., 1., 1., 1., 1.])"
      ]
     },
     "execution_count": 44,
     "metadata": {},
     "output_type": "execute_result"
    }
   ],
   "source": [
    "#Transpose\n",
    "v=np.ones(10)\n",
    "v"
   ]
  },
  {
   "cell_type": "code",
   "execution_count": 45,
   "metadata": {},
   "outputs": [
    {
     "data": {
      "text/plain": [
       "matrix([[1., 1., 1., 1., 1., 1., 1., 1., 1., 1.]])"
      ]
     },
     "execution_count": 45,
     "metadata": {},
     "output_type": "execute_result"
    }
   ],
   "source": [
    "v=np.matrix(v)\n",
    "v"
   ]
  },
  {
   "cell_type": "code",
   "execution_count": 46,
   "metadata": {},
   "outputs": [
    {
     "data": {
      "text/plain": [
       "matrix([[1.],\n",
       "        [1.],\n",
       "        [1.],\n",
       "        [1.],\n",
       "        [1.],\n",
       "        [1.],\n",
       "        [1.],\n",
       "        [1.],\n",
       "        [1.],\n",
       "        [1.]])"
      ]
     },
     "execution_count": 46,
     "metadata": {},
     "output_type": "execute_result"
    }
   ],
   "source": [
    "v=v.T\n",
    "v"
   ]
  },
  {
   "cell_type": "code",
   "execution_count": 47,
   "metadata": {},
   "outputs": [
    {
     "data": {
      "text/plain": [
       "array([[1, 0, 1, 0, 0, 1, 1, 0, 1, 0],\n",
       "       [0, 0, 1, 0, 1, 0, 0, 0, 0, 0],\n",
       "       [1, 0, 1, 1, 1, 0, 0, 1, 0, 0],\n",
       "       [1, 0, 1, 1, 1, 1, 1, 1, 1, 0],\n",
       "       [0, 1, 1, 1, 0, 1, 1, 1, 1, 0],\n",
       "       [0, 1, 1, 0, 1, 0, 0, 0, 0, 1],\n",
       "       [1, 0, 0, 1, 0, 0, 0, 1, 1, 1],\n",
       "       [1, 1, 1, 1, 0, 0, 0, 1, 1, 0],\n",
       "       [0, 0, 0, 1, 1, 1, 0, 0, 0, 1],\n",
       "       [1, 0, 0, 1, 0, 1, 1, 1, 1, 1]])"
      ]
     },
     "execution_count": 47,
     "metadata": {},
     "output_type": "execute_result"
    }
   ],
   "source": [
    "D=np.random.randint(0,2,(10,10))\n",
    "D"
   ]
  },
  {
   "cell_type": "code",
   "execution_count": 48,
   "metadata": {},
   "outputs": [],
   "source": [
    "D=np.matrix(D)"
   ]
  },
  {
   "cell_type": "code",
   "execution_count": 49,
   "metadata": {},
   "outputs": [
    {
     "data": {
      "text/plain": [
       "matrix([[5.],\n",
       "        [2.],\n",
       "        [5.],\n",
       "        [8.],\n",
       "        [7.],\n",
       "        [4.],\n",
       "        [5.],\n",
       "        [6.],\n",
       "        [4.],\n",
       "        [7.]])"
      ]
     },
     "execution_count": 49,
     "metadata": {},
     "output_type": "execute_result"
    }
   ],
   "source": [
    "#get Dv\n",
    "D*v"
   ]
  },
  {
   "cell_type": "markdown",
   "metadata": {},
   "source": [
    "### Example: Market share of technology companies"
   ]
  },
  {
   "cell_type": "markdown",
   "metadata": {},
   "source": [
    "### Financial analysis of rise and decline of three technology companies show that the monthly market shares of three companies A, B and C can be estimated by a transformation matrix P:"
   ]
  },
  {
   "cell_type": "markdown",
   "metadata": {},
   "source": [
    "### \\begin{equation*}\n",
    "P=\\begin{bmatrix}\n",
    "0.8&0.03&0.2\\\\\n",
    "0.1&0.95&0.05\\\\\n",
    "0.1&0.02&0.75\n",
    "\\end{bmatrix}\\end{equation*}\n"
   ]
  },
  {
   "cell_type": "markdown",
   "metadata": {},
   "source": [
    "### For example: the first column of matrix P represents the share of Company A that will pass to Company A, Company B and Company C respectively. The initial market share of the three companies is \n",
    "\\begin{equation*}\n",
    "I=\\begin{bmatrix}\n",
    "30\\\\\n",
    "15\\\\\n",
    "55\n",
    "\\end{bmatrix}\\end{equation*}."
   ]
  },
  {
   "cell_type": "markdown",
   "metadata": {},
   "source": [
    "### Find the final market share of the 3 companies A, B and C."
   ]
  },
  {
   "cell_type": "code",
   "execution_count": 51,
   "metadata": {},
   "outputs": [
    {
     "data": {
      "text/plain": [
       "array([[0.8 , 0.03, 0.2 ],\n",
       "       [0.1 , 0.95, 0.05],\n",
       "       [0.1 , 0.02, 0.75]])"
      ]
     },
     "execution_count": 51,
     "metadata": {},
     "output_type": "execute_result"
    }
   ],
   "source": [
    "P=np.array([[0.8,0.03,0.2],[0.1,0.95,0.05],[0.1,0.02,0.75]])\n",
    "P"
   ]
  },
  {
   "cell_type": "code",
   "execution_count": 52,
   "metadata": {},
   "outputs": [
    {
     "data": {
      "text/plain": [
       "array([[30],\n",
       "       [15],\n",
       "       [55]])"
      ]
     },
     "execution_count": 52,
     "metadata": {},
     "output_type": "execute_result"
    }
   ],
   "source": [
    "I=np.array([[30],[15],[55]])\n",
    "I"
   ]
  },
  {
   "cell_type": "code",
   "execution_count": 53,
   "metadata": {},
   "outputs": [
    {
     "data": {
      "text/plain": [
       "array([[35.45],\n",
       "       [20.  ],\n",
       "       [44.55]])"
      ]
     },
     "execution_count": 53,
     "metadata": {},
     "output_type": "execute_result"
    }
   ],
   "source": [
    "#predicted market share after 1 month\n",
    "I1=np.dot(P,I)\n",
    "I1"
   ]
  },
  {
   "cell_type": "code",
   "execution_count": 61,
   "metadata": {},
   "outputs": [],
   "source": [
    "#let's write a function which takes P and I and finds share after N months\n",
    "def Market_Share(Trans, Init, N):\n",
    "    \"\"\"\n",
    "    A function for market share problem. \n",
    "    \"\"\"\n",
    "    S=np.dot(Trans,Init)\n",
    "    for i in range(N-1):\n",
    "        S=np.dot(Trans,S)\n",
    "    return(S.T[0].tolist())"
   ]
  },
  {
   "cell_type": "code",
   "execution_count": 62,
   "metadata": {},
   "outputs": [
    {
     "data": {
      "text/plain": [
       "[38.510675000000006, 29.18875, 32.300574999999995]"
      ]
     },
     "execution_count": 62,
     "metadata": {},
     "output_type": "execute_result"
    }
   ],
   "source": [
    "Market_Share(P,I,3)"
   ]
  },
  {
   "cell_type": "code",
   "execution_count": 96,
   "metadata": {},
   "outputs": [],
   "source": [
    "N=range(1,41)\n",
    "Share=[]\n",
    "for j in N:\n",
    "    Share.append(Market_Share(P,I,j))"
   ]
  },
  {
   "cell_type": "code",
   "execution_count": 97,
   "metadata": {},
   "outputs": [
    {
     "data": {
      "text/plain": [
       "[[35.45, 20.0, 44.55],\n",
       " [37.870000000000005, 24.7725, 37.357499999999995],\n",
       " [38.510675000000006, 29.18875, 32.300574999999995],\n",
       " [38.14431750000001, 33.19540875, 28.660273749999998],\n",
       " [37.243371012500006, 36.783083749999996, 25.973545237499998],\n",
       " [36.09289837000001, 39.966943925624996, 23.940157704375],\n",
       " [34.86135855464376, 42.774894451562496, 22.363746993793754],\n",
       " [33.64508307602063, 45.24047293413844, 21.114443989840943],\n",
       " [32.49616944680885, 47.39867979452563, 20.105150758665538],\n",
       " [31.439926103015956, 49.283620287413505, 19.276453609570552],\n",
       " [30.48574021294928, 50.92725456382295, 18.58700522322778],\n",
       " [29.63381085191967, 52.358816118088114, 18.007373029992223],\n",
       " [28.879287771076825, 53.604625048875285, 17.516087180047897],\n",
       " [28.214786404337296, 54.68812693254159, 17.09708666312111],\n",
       " [27.631890264070307, 55.6300535595043, 16.738056176425395],\n",
       " [27.122025053326453, 56.448642716757384, 16.429332229916163],\n",
       " [26.67694577014712, 57.15987969774797, 16.163174532104915],\n",
       " [26.28898791347112, 57.777739016480524, 15.933273070048358],\n",
       " [25.951177115280984, 58.314414510506026, 15.734408374212991],\n",
       " [25.657255802382572, 58.78053191521947, 15.562212282397963],\n",
       " [25.401663055842235, 59.185341513816645, 15.41299543034112],\n",
       " [25.179489776156515, 59.53689051522709, 15.283619708616396],\n",
       " [24.986422478105307, 59.84217595251221, 15.171401569382489],\n",
       " [24.818683574936113, 60.10727948116625, 15.074036943897642],\n",
       " [24.67297263316341, 60.33748571179643, 14.989541655040169],\n",
       " [24.546411008892658, 60.53738577227496, 14.916203218832397],\n",
       " [24.436491024048856, 60.7109677454921, 14.852541230459064],\n",
       " [24.34103009769566, 60.861695522145325, 14.797274380159024],\n",
       " [24.258129819852698, 60.99257747481557, 14.74929270533174],\n",
       " [24.186139721192976, 61.10622621832664, 14.707634060480387],\n",
       " [24.12362537560026, 61.204910582553616, 14.671464041846122],\n",
       " [24.069340426326043, 61.29060079307827, 14.64005878059569],\n",
       " [24.022202120972324, 61.36500773508674, 14.612790143940938],\n",
       " [23.98126995761865, 61.42961706762668, 14.58911297475467],\n",
       " [23.945727073074654, 61.48571885874494, 14.5685540681804],\n",
       " [23.914864037858152, 61.53443332652417, 14.550702635617665],\n",
       " [23.888064757205782, 61.57673319576465, 14.535202047029546],\n",
       " [23.864794211043474, 61.61346311404847, 14.521742674908033],\n",
       " [23.844587797237843, 61.64535651319579, 14.510055689566341],\n",
       " [23.827042071099413, 61.673050251738104, 14.499907677162454]]"
      ]
     },
     "execution_count": 97,
     "metadata": {},
     "output_type": "execute_result"
    }
   ],
   "source": [
    "Share"
   ]
  },
  {
   "cell_type": "code",
   "execution_count": 98,
   "metadata": {},
   "outputs": [],
   "source": [
    "Share=np.array(Share)\n",
    "Share=Share.T"
   ]
  },
  {
   "cell_type": "code",
   "execution_count": 99,
   "metadata": {},
   "outputs": [
    {
     "data": {
      "text/plain": [
       "array([35.45      , 37.87      , 38.510675  , 38.1443175 , 37.24337101,\n",
       "       36.09289837, 34.86135855, 33.64508308, 32.49616945, 31.4399261 ,\n",
       "       30.48574021, 29.63381085, 28.87928777, 28.2147864 , 27.63189026,\n",
       "       27.12202505, 26.67694577, 26.28898791, 25.95117712, 25.6572558 ,\n",
       "       25.40166306, 25.17948978, 24.98642248, 24.81868357, 24.67297263,\n",
       "       24.54641101, 24.43649102, 24.3410301 , 24.25812982, 24.18613972,\n",
       "       24.12362538, 24.06934043, 24.02220212, 23.98126996, 23.94572707,\n",
       "       23.91486404, 23.88806476, 23.86479421, 23.8445878 , 23.82704207])"
      ]
     },
     "execution_count": 99,
     "metadata": {},
     "output_type": "execute_result"
    }
   ],
   "source": [
    "Share[0]"
   ]
  },
  {
   "cell_type": "code",
   "execution_count": 100,
   "metadata": {},
   "outputs": [
    {
     "data": {
      "image/png": "[encoded data removed]",
      "text/plain": [
       "<Figure size 576x576 with 1 Axes>"
      ]
     },
     "metadata": {
      "needs_background": "light"
     },
     "output_type": "display_data"
    }
   ],
   "source": [
    "#plot data\n",
    "\n",
    "plt.figure(figsize=(8,8))\n",
    "plt.plot(N,Share[0],c='darkred',label=\"Company A\")\n",
    "plt.plot(N,Share[1],c='darkblue',label=\"Company B\")\n",
    "plt.plot(N,Share[2],c='darkgreen',label=\"Company C\")\n",
    "plt.xlabel('N', fontsize=15)\n",
    "plt.ylabel('Market share (%)', fontsize=15)\n",
    "plt.legend(fontsize=15)\n",
    "plt.xticks(fontsize=13)\n",
    "plt.yticks(fontsize=13)\n",
    "\n",
    "plt.show()\n",
    "\n"
   ]
  },
  {
   "cell_type": "code",
   "execution_count": 95,
   "metadata": {},
   "outputs": [
    {
     "data": {
      "text/plain": [
       "(23.711364426375237, 61.85563187485769, 14.433003698766914)"
      ]
     },
     "execution_count": 95,
     "metadata": {},
     "output_type": "execute_result"
    }
   ],
   "source": [
    "#Share[0][99],Share[1][99],Share[2][99]"
   ]
  },
  {
   "cell_type": "code",
   "execution_count": 101,
   "metadata": {},
   "outputs": [
    {
     "data": {
      "text/plain": [
       "(23.827042071099413, 61.673050251738104, 14.499907677162454)"
      ]
     },
     "execution_count": 101,
     "metadata": {},
     "output_type": "execute_result"
    }
   ],
   "source": [
    "Share[0][39],Share[1][39],Share[2][39]"
   ]
  },
  {
   "cell_type": "markdown",
   "metadata": {},
   "source": [
    "### Is there any way to find final market share without estimating it month-by-month?"
   ]
  },
  {
   "cell_type": "markdown",
   "metadata": {},
   "source": [
    "### We reach the ultimate market share when $PS=S$, where $S$ is the market share vector. So, to find the final market share we just need to find eigenvector of $P$ with eigenvalue of 1"
   ]
  },
  {
   "cell_type": "code",
   "execution_count": 103,
   "metadata": {},
   "outputs": [
    {
     "data": {
      "text/plain": [
       "(array([0.6316784, 1.       , 0.8683216]),\n",
       " array([[-0.76769674,  0.34973152,  0.51126117],\n",
       "        [ 0.14305534,  0.91234311, -0.80695536],\n",
       "        [ 0.6246414 ,  0.21288006,  0.2956942 ]]))"
      ]
     },
     "execution_count": 103,
     "metadata": {},
     "output_type": "execute_result"
    }
   ],
   "source": [
    "E=np.linalg.eig(P)\n",
    "E"
   ]
  },
  {
   "cell_type": "code",
   "execution_count": 107,
   "metadata": {},
   "outputs": [
    {
     "data": {
      "text/plain": [
       "array([0.34973152, 0.91234311, 0.21288006])"
      ]
     },
     "execution_count": 107,
     "metadata": {},
     "output_type": "execute_result"
    }
   ],
   "source": [
    "SF=E[1].T[1]\n",
    "SF"
   ]
  },
  {
   "cell_type": "code",
   "execution_count": 110,
   "metadata": {},
   "outputs": [
    {
     "data": {
      "text/plain": [
       "array([23.71134021, 61.8556701 , 14.43298969])"
      ]
     },
     "execution_count": 110,
     "metadata": {},
     "output_type": "execute_result"
    }
   ],
   "source": [
    "SF/np.sum(SF)*100"
   ]
  },
  {
   "cell_type": "code",
   "execution_count": null,
   "metadata": {},
   "outputs": [],
   "source": []
  }
 ],
 "metadata": {
  "kernelspec": {
   "display_name": "PHYS247",
   "language": "python",
   "name": "phys247"
  },
  "language_info": {
   "codemirror_mode": {
    "name": "ipython",
    "version": 3
   },
   "file_extension": ".py",
   "mimetype": "text/x-python",
   "name": "python",
   "nbconvert_exporter": "python",
   "pygments_lexer": "ipython3",
   "version": "3.8.2"
  }
 },
 "nbformat": 4,
 "nbformat_minor": 4
}
